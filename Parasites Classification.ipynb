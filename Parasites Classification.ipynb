{
 "cells": [
  {
   "cell_type": "code",
   "execution_count": 4,
   "id": "93749dbf-67fe-4fce-b178-65963abaee51",
   "metadata": {},
   "outputs": [],
   "source": [
    "import os\n",
    "import matplotlib.pyplot as plt\n",
    "import cv2\n",
    "import numpy as np\n",
    "import pandas as pd\n",
    "import tensorflow as tf\n",
    "import keras\n",
    "from keras.callbacks import History "
   ]
  },
  {
   "cell_type": "code",
   "execution_count": 15,
   "id": "dd37441c-d175-4f54-b040-f590eb64f026",
   "metadata": {},
   "outputs": [],
   "source": [
    "path1=r\"D:\\Class Dataset\\Projects\\ParasiteEgg_Classification\\training_set\"\n",
    "cate=[\"Ascaris lumbricoides\",\"Capillaria philippinensis\",\"Enterobius vermicularis\",\"Fasciolopsis buski\",\"Hookworm egg\",\"Hymenolepis diminuta\",\"Hymenolepis nana\",\"Opisthorchis viverrine\",\"Paragonimus spp\",\n",
    "\"Taenia spp egg\",\"Trichuris trichiura\"]"
   ]
  },
  {
   "cell_type": "code",
   "execution_count": 5,
   "id": "9b5833ab-c7d4-4343-b4b1-4e53d118462f",
   "metadata": {},
   "outputs": [],
   "source": [
    "path2=r\"D:\\Class Dataset\\Projects\\ParasiteEgg_Classification\\testing_set\"\n",
    "cate=[\"Ascaris lumbricoides\",\"Capillaria philippinensis\",\"Enterobius vermicularis\",\"Fasciolopsis buski\",\"Hookworm egg\",\"Hymenolepis diminuta\",\"Hymenolepis nana\",\"Opisthorchis viverrine\",\"Paragonimus spp\",\n",
    "\"Taenia spp egg\",\"Trichuris trichiura\"]"
   ]
  },
  {
   "cell_type": "code",
   "execution_count": 17,
   "id": "bc8601c3-69d8-4780-ac43-0cd26668b29f",
   "metadata": {
    "tags": []
   },
   "outputs": [],
   "source": [
    "image_size=200\n",
    "training_image=[]\n",
    "for i in cate:\n",
    "    folders=os.path.join(path1,i)\n",
    "    label=cate.index(i)\n",
    "    for image in os.listdir(folders):\n",
    "        image_path=os.path.join(folders,image)\n",
    "        image_array=cv2.imread(image_path)\n",
    "        image_array=cv2.resize(image_array,(image_size,image_size))\n",
    "        training_image.append([image_array,label])"
   ]
  },
  {
   "cell_type": "code",
   "execution_count": 6,
   "id": "64e1fbd4-cac7-43a8-a302-1ce14758ae85",
   "metadata": {},
   "outputs": [],
   "source": [
    "image_size=200\n",
    "testing_image=[]\n",
    "for i in cate:\n",
    "    folders=os.path.join(path2,i)\n",
    "    label=cate.index(i)\n",
    "    for image in os.listdir(folders):\n",
    "        image_path=os.path.join(folders,image)\n",
    "        image_array=cv2.imread(image_path)\n",
    "        image_array=cv2.resize(image_array,(image_size,image_size))\n",
    "        testing_image.append([image_array,label])"
   ]
  },
  {
   "cell_type": "code",
   "execution_count": 19,
   "id": "d0a884b8-9124-4fb2-9a6b-7e737d4f059d",
   "metadata": {},
   "outputs": [],
   "source": [
    "# lets access the images"
   ]
  },
  {
   "cell_type": "code",
   "execution_count": 20,
   "id": "f99451b3-d7c8-456a-85a9-cc8f05887bf7",
   "metadata": {},
   "outputs": [
    {
     "data": {
      "text/plain": [
       "8900"
      ]
     },
     "execution_count": 20,
     "metadata": {},
     "output_type": "execute_result"
    }
   ],
   "source": [
    "len(training_image)"
   ]
  },
  {
   "cell_type": "code",
   "execution_count": 7,
   "id": "a4a3762f-3fa5-46eb-b062-f5f37a6d2130",
   "metadata": {},
   "outputs": [
    {
     "data": {
      "text/plain": [
       "2200"
      ]
     },
     "execution_count": 7,
     "metadata": {},
     "output_type": "execute_result"
    }
   ],
   "source": [
    "len(testing_image)"
   ]
  },
  {
   "cell_type": "code",
   "execution_count": 22,
   "id": "6a5c83b3-336e-44ef-a1f1-af9c7257fb4a",
   "metadata": {},
   "outputs": [
    {
     "data": {
      "text/plain": [
       "1"
      ]
     },
     "execution_count": 22,
     "metadata": {},
     "output_type": "execute_result"
    }
   ],
   "source": [
    "training_image[800][1]"
   ]
  },
  {
   "cell_type": "code",
   "execution_count": 8,
   "id": "5fa56e58-82a8-4fbf-a0f5-7202a1934119",
   "metadata": {},
   "outputs": [
    {
     "data": {
      "text/plain": [
       "4"
      ]
     },
     "execution_count": 8,
     "metadata": {},
     "output_type": "execute_result"
    }
   ],
   "source": [
    "testing_image[800][1]"
   ]
  },
  {
   "cell_type": "code",
   "execution_count": 24,
   "id": "8c97e4dd-96d2-47b4-8fd7-e547b6350025",
   "metadata": {},
   "outputs": [],
   "source": [
    "np.random.shuffle(training_image)"
   ]
  },
  {
   "cell_type": "code",
   "execution_count": 9,
   "id": "b7ff8993-e26b-49b0-936f-bd2416a4df7b",
   "metadata": {},
   "outputs": [],
   "source": [
    "np.random.shuffle(testing_image)"
   ]
  },
  {
   "cell_type": "code",
   "execution_count": 27,
   "id": "b4269018-b161-4f5b-8f06-896408eebf44",
   "metadata": {},
   "outputs": [],
   "source": [
    "#till this point x and y values are together\n",
    "X_train=[]\n",
    "Y_train=[]\n",
    "for X_values,labels in training_image:\n",
    "    X_train.append(X_values)\n",
    "    Y_train.append(labels)"
   ]
  },
  {
   "cell_type": "code",
   "execution_count": 10,
   "id": "25dc6462-70d4-436b-b221-7dc7322aca2e",
   "metadata": {},
   "outputs": [],
   "source": [
    "#till this point x and y values are together\n",
    "X_test=[]\n",
    "Y_test=[]\n",
    "for X_values,labels in testing_image:\n",
    "    X_test.append(X_values)\n",
    "    Y_test.append(labels)"
   ]
  },
  {
   "cell_type": "code",
   "execution_count": 11,
   "id": "822b84d8-0764-4e3a-b25c-f71dde69aa06",
   "metadata": {},
   "outputs": [
    {
     "data": {
      "text/plain": [
       "275.0"
      ]
     },
     "execution_count": 11,
     "metadata": {},
     "output_type": "execute_result"
    }
   ],
   "source": [
    "2200/8"
   ]
  },
  {
   "cell_type": "code",
   "execution_count": 12,
   "id": "86c008b2-f07a-4579-b880-a07a23f58191",
   "metadata": {},
   "outputs": [],
   "source": [
    "X=X_test\n",
    "Y=Y_test\n",
    "X_train=X[0:1925]\n",
    "Y_train=Y[0:1925]\n",
    "X_test=X[1925::]\n",
    "Y_test=Y[1925::]"
   ]
  },
  {
   "cell_type": "code",
   "execution_count": 13,
   "id": "b5bc4a0a-004a-4636-9b79-3769fa49359e",
   "metadata": {},
   "outputs": [],
   "source": [
    "X_train=np.array(X_train)\n",
    "Y_train=np.array(Y_train)\n",
    "X_test=np.array(X_test)\n",
    "Y_test=np.array(Y_test)\n"
   ]
  },
  {
   "cell_type": "code",
   "execution_count": 14,
   "id": "328ca8db-87a3-49ab-891d-26a8c21cfe9c",
   "metadata": {},
   "outputs": [],
   "source": [
    "#Normalising the data by dividing the x test and train by max pixel size ==255\n",
    "X_train=(X_train/255)\n",
    "X_test=(X_test/255)"
   ]
  },
  {
   "cell_type": "code",
   "execution_count": 23,
   "id": "ae3ac848-c25b-4fd3-82fd-11cbc86dc94e",
   "metadata": {},
   "outputs": [
    {
     "data": {
      "text/plain": [
       "200"
      ]
     },
     "execution_count": 23,
     "metadata": {},
     "output_type": "execute_result"
    }
   ],
   "source": [
    "len(X_train[2])"
   ]
  },
  {
   "cell_type": "code",
   "execution_count": 15,
   "id": "7bace91e-9709-46db-aa91-9384a0bf3256",
   "metadata": {},
   "outputs": [],
   "source": [
    "from keras.models import Sequential\n",
    "from keras.layers import Conv2D,MaxPool2D,Flatten,Dense,Dropout"
   ]
  },
  {
   "cell_type": "code",
   "execution_count": 16,
   "id": "5f1b42d8-cbc2-440e-80c8-41da34dffba0",
   "metadata": {},
   "outputs": [],
   "source": [
    "from tensorflow.keras.utils import to_categorical"
   ]
  },
  {
   "cell_type": "code",
   "execution_count": 25,
   "id": "c97c2d91-3b2f-4a4e-9d96-944c2c4f4fff",
   "metadata": {},
   "outputs": [],
   "source": [
    "model=Sequential()\n",
    "model.add(Conv2D(filters=16,kernel_size=(5,5),activation=\"relu\",padding=\"same\"))\n",
    "model.add(MaxPool2D(pool_size=(2,2)))\n",
    "model.add(Flatten())\n",
    "\n",
    "model.add(Dense(128,activation=\"relu\"))\n",
    "model.add(Dense(11,activation=\"softmax\"))\n",
    "adam=tf.keras.optimizers.Adam()\n",
    "\n",
    "model.compile(optimizer=adam,loss=\"sparse_categorical_crossentropy\",metrics=[\"accuracy\"])\n"
   ]
  },
  {
   "cell_type": "code",
   "execution_count": 27,
   "id": "868b933c-e76e-4a4c-b769-9bdef5f68722",
   "metadata": {},
   "outputs": [
    {
     "name": "stdout",
     "output_type": "stream",
     "text": [
      "Epoch 1/20\n",
      "49/49 [==============================] - 27s 557ms/step - loss: 1.1717 - accuracy: 0.5766 - val_loss: 1.5777 - val_accuracy: 0.4597\n",
      "Epoch 2/20\n",
      "49/49 [==============================] - 27s 554ms/step - loss: 0.6567 - accuracy: 0.7942 - val_loss: 1.5341 - val_accuracy: 0.4883\n",
      "Epoch 3/20\n",
      "49/49 [==============================] - 29s 598ms/step - loss: 0.3685 - accuracy: 0.8948 - val_loss: 1.5544 - val_accuracy: 0.4961\n",
      "Epoch 4/20\n",
      "49/49 [==============================] - 31s 633ms/step - loss: 0.2287 - accuracy: 0.9331 - val_loss: 1.9155 - val_accuracy: 0.4442\n",
      "Epoch 5/20\n",
      "49/49 [==============================] - 30s 617ms/step - loss: 0.1199 - accuracy: 0.9701 - val_loss: 1.7742 - val_accuracy: 0.5039\n",
      "Epoch 6/20\n",
      "49/49 [==============================] - 30s 614ms/step - loss: 0.0708 - accuracy: 0.9838 - val_loss: 1.9887 - val_accuracy: 0.4727\n",
      "Epoch 7/20\n",
      "49/49 [==============================] - 30s 618ms/step - loss: 0.0383 - accuracy: 0.9942 - val_loss: 1.9063 - val_accuracy: 0.4961\n",
      "Epoch 8/20\n",
      "49/49 [==============================] - 33s 665ms/step - loss: 0.0247 - accuracy: 0.9981 - val_loss: 1.8581 - val_accuracy: 0.5351\n",
      "Epoch 9/20\n",
      "49/49 [==============================] - 30s 607ms/step - loss: 0.0204 - accuracy: 0.9981 - val_loss: 2.0296 - val_accuracy: 0.5117\n",
      "Epoch 10/20\n",
      "49/49 [==============================] - 29s 601ms/step - loss: 0.0223 - accuracy: 0.9994 - val_loss: 2.1478 - val_accuracy: 0.4805\n",
      "Epoch 11/20\n",
      "49/49 [==============================] - 29s 592ms/step - loss: 0.0340 - accuracy: 0.9968 - val_loss: 2.0393 - val_accuracy: 0.5039\n",
      "Epoch 12/20\n",
      "49/49 [==============================] - 28s 582ms/step - loss: 0.0257 - accuracy: 0.9968 - val_loss: 1.9098 - val_accuracy: 0.4909\n",
      "Epoch 13/20\n",
      "49/49 [==============================] - 30s 620ms/step - loss: 0.0200 - accuracy: 0.9961 - val_loss: 2.1718 - val_accuracy: 0.4753\n",
      "Epoch 14/20\n",
      "49/49 [==============================] - 31s 633ms/step - loss: 0.0123 - accuracy: 0.9981 - val_loss: 2.3883 - val_accuracy: 0.4831\n",
      "Epoch 15/20\n",
      "49/49 [==============================] - 30s 605ms/step - loss: 0.0675 - accuracy: 0.9864 - val_loss: 2.1227 - val_accuracy: 0.4961\n",
      "Epoch 16/20\n",
      "49/49 [==============================] - 29s 594ms/step - loss: 0.0190 - accuracy: 0.9968 - val_loss: 2.1779 - val_accuracy: 0.4935\n",
      "Epoch 17/20\n",
      "49/49 [==============================] - 29s 592ms/step - loss: 0.1034 - accuracy: 0.9825 - val_loss: 2.0806 - val_accuracy: 0.4753\n",
      "Epoch 18/20\n",
      "49/49 [==============================] - 29s 600ms/step - loss: 0.0379 - accuracy: 0.9942 - val_loss: 2.1351 - val_accuracy: 0.4857\n",
      "Epoch 19/20\n",
      "49/49 [==============================] - 29s 599ms/step - loss: 0.0183 - accuracy: 0.9974 - val_loss: 2.1353 - val_accuracy: 0.4961\n",
      "Epoch 20/20\n",
      "49/49 [==============================] - 28s 568ms/step - loss: 0.0173 - accuracy: 0.9981 - val_loss: 2.2477 - val_accuracy: 0.4805\n"
     ]
    }
   ],
   "source": [
    "model1=model.fit(X_train,Y_train,epochs=20,validation_split=0.2,batch_size=32)"
   ]
  },
  {
   "cell_type": "code",
   "execution_count": null,
   "id": "d54407be-b2de-4700-a9ed-914878676b16",
   "metadata": {},
   "outputs": [],
   "source": []
  },
  {
   "cell_type": "code",
   "execution_count": 28,
   "id": "bc21b7d5-5c3b-4f41-8588-8bf38ba53ede",
   "metadata": {},
   "outputs": [
    {
     "name": "stdout",
     "output_type": "stream",
     "text": [
      "9/9 [==============================] - 1s 91ms/step\n"
     ]
    },
    {
     "data": {
      "text/plain": [
       "array([[1.60244596e-03, 2.73891781e-02, 4.77165371e-01, ...,\n",
       "        4.26279684e-07, 2.43934169e-02, 1.41635553e-06],\n",
       "       [1.46376726e-03, 8.66252482e-01, 1.28778860e-01, ...,\n",
       "        7.70022979e-09, 3.85833191e-05, 5.49319899e-04],\n",
       "       [5.07282093e-02, 1.56747818e-01, 8.13322514e-03, ...,\n",
       "        8.17750515e-06, 5.50349355e-01, 7.69532425e-03],\n",
       "       ...,\n",
       "       [9.62001324e-01, 9.23064596e-04, 5.76958018e-06, ...,\n",
       "        1.39151746e-03, 9.00092814e-03, 1.88462815e-04],\n",
       "       [7.75025111e-09, 1.54137272e-10, 5.89666640e-12, ...,\n",
       "        9.99996424e-01, 8.37800052e-10, 3.85370512e-12],\n",
       "       [9.59870100e-01, 5.44270563e-07, 1.05230845e-06, ...,\n",
       "        1.72199921e-09, 1.30258715e-02, 9.36411787e-04]], dtype=float32)"
      ]
     },
     "execution_count": 28,
     "metadata": {},
     "output_type": "execute_result"
    }
   ],
   "source": [
    "pred_value=model.predict(X_test)\n",
    "pred_value      #it gives prediction in probabilites for all 10 classes for test data"
   ]
  },
  {
   "cell_type": "code",
   "execution_count": 29,
   "id": "9c43de26-5e4a-4052-b914-6829cd6c2338",
   "metadata": {},
   "outputs": [],
   "source": [
    "#lets convert probabilty to classes to make confusion matrix"
   ]
  },
  {
   "cell_type": "code",
   "execution_count": 30,
   "id": "ea94096b-9489-49e2-9c99-c53ac280837d",
   "metadata": {},
   "outputs": [],
   "source": [
    "pred_classes=np.argmax(pred_value,axis=1)"
   ]
  },
  {
   "cell_type": "code",
   "execution_count": 31,
   "id": "63f5d1cd-0dd7-4b93-b185-d9f67c2d7b70",
   "metadata": {},
   "outputs": [],
   "source": [
    "from sklearn.metrics import confusion_matrix,accuracy_score"
   ]
  },
  {
   "cell_type": "code",
   "execution_count": 32,
   "id": "c72e07fd-ce98-4f51-9686-79e739bd7489",
   "metadata": {},
   "outputs": [
    {
     "data": {
      "text/plain": [
       "array([[15,  3,  4,  1,  0,  0,  0,  0,  0,  2,  1],\n",
       "       [ 1, 13,  8,  0,  1,  0,  1,  1,  0,  2,  0],\n",
       "       [ 2,  6, 11,  1,  0,  0,  0,  1,  1,  1,  2],\n",
       "       [ 1,  2,  0,  7,  1,  0,  0,  3,  0,  2,  5],\n",
       "       [ 0,  2,  0,  2, 10,  0,  1,  2,  1,  2,  0],\n",
       "       [ 0,  0,  0,  0,  0, 24,  0,  0,  0,  0,  0],\n",
       "       [ 1,  4,  2,  0,  0,  1, 15,  0,  1,  0,  0],\n",
       "       [ 3,  2,  1,  0,  0,  0,  0, 12,  1,  1,  3],\n",
       "       [ 0,  0,  0,  0,  0,  0,  0,  0, 32,  0,  0],\n",
       "       [ 1,  4,  1,  2,  0,  0,  0,  5,  0,  5,  5],\n",
       "       [ 1,  5,  4,  2,  0,  0,  1,  2,  0,  0, 15]], dtype=int64)"
      ]
     },
     "execution_count": 32,
     "metadata": {},
     "output_type": "execute_result"
    }
   ],
   "source": [
    "tab=confusion_matrix(Y_test,pred_classes)\n",
    "tab"
   ]
  },
  {
   "cell_type": "code",
   "execution_count": 33,
   "id": "c0355775-a49a-4e9b-90b5-47a43c62de20",
   "metadata": {},
   "outputs": [
    {
     "data": {
      "text/plain": [
       "57.81818181818181"
      ]
     },
     "execution_count": 33,
     "metadata": {},
     "output_type": "execute_result"
    }
   ],
   "source": [
    "accuracy=accuracy_score(Y_test,pred_classes)*100\n",
    "accuracy"
   ]
  },
  {
   "cell_type": "code",
   "execution_count": 34,
   "id": "3a124b4d-a7ea-4eb3-b6ae-1b487007704f",
   "metadata": {},
   "outputs": [
    {
     "data": {
      "text/plain": [
       "{'loss': [1.1716581583023071,\n",
       "  0.6566906571388245,\n",
       "  0.36851778626441956,\n",
       "  0.22865329682826996,\n",
       "  0.11987101286649704,\n",
       "  0.07082300633192062,\n",
       "  0.038272831588983536,\n",
       "  0.024734923616051674,\n",
       "  0.020382218062877655,\n",
       "  0.02225777693092823,\n",
       "  0.033965613692998886,\n",
       "  0.025701109319925308,\n",
       "  0.019977092742919922,\n",
       "  0.012261919677257538,\n",
       "  0.0675174668431282,\n",
       "  0.01899949461221695,\n",
       "  0.10336777567863464,\n",
       "  0.037862662225961685,\n",
       "  0.018250318244099617,\n",
       "  0.017277127131819725],\n",
       " 'accuracy': [0.5766233801841736,\n",
       "  0.7941558361053467,\n",
       "  0.8948051929473877,\n",
       "  0.9331169128417969,\n",
       "  0.9701298475265503,\n",
       "  0.9837662577629089,\n",
       "  0.9941558241844177,\n",
       "  0.9980519413948059,\n",
       "  0.9980519413948059,\n",
       "  0.9993506669998169,\n",
       "  0.9967532753944397,\n",
       "  0.9967532753944397,\n",
       "  0.9961038827896118,\n",
       "  0.9980519413948059,\n",
       "  0.9863636493682861,\n",
       "  0.9967532753944397,\n",
       "  0.982467532157898,\n",
       "  0.9941558241844177,\n",
       "  0.9974026083946228,\n",
       "  0.9980519413948059],\n",
       " 'val_loss': [1.5777482986450195,\n",
       "  1.5340988636016846,\n",
       "  1.554388403892517,\n",
       "  1.915513515472412,\n",
       "  1.774209976196289,\n",
       "  1.9887322187423706,\n",
       "  1.906327486038208,\n",
       "  1.8581023216247559,\n",
       "  2.0296058654785156,\n",
       "  2.1477980613708496,\n",
       "  2.0392515659332275,\n",
       "  1.9098235368728638,\n",
       "  2.171800136566162,\n",
       "  2.3882813453674316,\n",
       "  2.122697353363037,\n",
       "  2.177901268005371,\n",
       "  2.0805821418762207,\n",
       "  2.135087013244629,\n",
       "  2.1353330612182617,\n",
       "  2.2476634979248047],\n",
       " 'val_accuracy': [0.4597402513027191,\n",
       "  0.48831167817115784,\n",
       "  0.4961038827896118,\n",
       "  0.44415584206581116,\n",
       "  0.5038961172103882,\n",
       "  0.4727272689342499,\n",
       "  0.4961038827896118,\n",
       "  0.5350649356842041,\n",
       "  0.5116882920265198,\n",
       "  0.48051947355270386,\n",
       "  0.5038961172103882,\n",
       "  0.4909090995788574,\n",
       "  0.4753246605396271,\n",
       "  0.48311689496040344,\n",
       "  0.4961038827896118,\n",
       "  0.4935064911842346,\n",
       "  0.4753246605396271,\n",
       "  0.48571428656578064,\n",
       "  0.4961038827896118,\n",
       "  0.48051947355270386]}"
      ]
     },
     "execution_count": 34,
     "metadata": {},
     "output_type": "execute_result"
    }
   ],
   "source": [
    "model1.history"
   ]
  },
  {
   "cell_type": "code",
   "execution_count": 35,
   "id": "db7c7204-879e-4d8e-a981-de71577288b5",
   "metadata": {},
   "outputs": [],
   "source": [
    "df1=pd.DataFrame(model1.history)"
   ]
  },
  {
   "cell_type": "code",
   "execution_count": 36,
   "id": "1bdad84c-97b8-48d8-ae9d-4879ded78d48",
   "metadata": {},
   "outputs": [
    {
     "data": {
      "text/html": [
       "<div>\n",
       "<style scoped>\n",
       "    .dataframe tbody tr th:only-of-type {\n",
       "        vertical-align: middle;\n",
       "    }\n",
       "\n",
       "    .dataframe tbody tr th {\n",
       "        vertical-align: top;\n",
       "    }\n",
       "\n",
       "    .dataframe thead th {\n",
       "        text-align: right;\n",
       "    }\n",
       "</style>\n",
       "<table border=\"1\" class=\"dataframe\">\n",
       "  <thead>\n",
       "    <tr style=\"text-align: right;\">\n",
       "      <th></th>\n",
       "      <th>loss</th>\n",
       "      <th>accuracy</th>\n",
       "      <th>val_loss</th>\n",
       "      <th>val_accuracy</th>\n",
       "    </tr>\n",
       "  </thead>\n",
       "  <tbody>\n",
       "    <tr>\n",
       "      <th>0</th>\n",
       "      <td>1.171658</td>\n",
       "      <td>0.576623</td>\n",
       "      <td>1.577748</td>\n",
       "      <td>0.459740</td>\n",
       "    </tr>\n",
       "    <tr>\n",
       "      <th>1</th>\n",
       "      <td>0.656691</td>\n",
       "      <td>0.794156</td>\n",
       "      <td>1.534099</td>\n",
       "      <td>0.488312</td>\n",
       "    </tr>\n",
       "    <tr>\n",
       "      <th>2</th>\n",
       "      <td>0.368518</td>\n",
       "      <td>0.894805</td>\n",
       "      <td>1.554388</td>\n",
       "      <td>0.496104</td>\n",
       "    </tr>\n",
       "    <tr>\n",
       "      <th>3</th>\n",
       "      <td>0.228653</td>\n",
       "      <td>0.933117</td>\n",
       "      <td>1.915514</td>\n",
       "      <td>0.444156</td>\n",
       "    </tr>\n",
       "    <tr>\n",
       "      <th>4</th>\n",
       "      <td>0.119871</td>\n",
       "      <td>0.970130</td>\n",
       "      <td>1.774210</td>\n",
       "      <td>0.503896</td>\n",
       "    </tr>\n",
       "    <tr>\n",
       "      <th>5</th>\n",
       "      <td>0.070823</td>\n",
       "      <td>0.983766</td>\n",
       "      <td>1.988732</td>\n",
       "      <td>0.472727</td>\n",
       "    </tr>\n",
       "    <tr>\n",
       "      <th>6</th>\n",
       "      <td>0.038273</td>\n",
       "      <td>0.994156</td>\n",
       "      <td>1.906327</td>\n",
       "      <td>0.496104</td>\n",
       "    </tr>\n",
       "    <tr>\n",
       "      <th>7</th>\n",
       "      <td>0.024735</td>\n",
       "      <td>0.998052</td>\n",
       "      <td>1.858102</td>\n",
       "      <td>0.535065</td>\n",
       "    </tr>\n",
       "    <tr>\n",
       "      <th>8</th>\n",
       "      <td>0.020382</td>\n",
       "      <td>0.998052</td>\n",
       "      <td>2.029606</td>\n",
       "      <td>0.511688</td>\n",
       "    </tr>\n",
       "    <tr>\n",
       "      <th>9</th>\n",
       "      <td>0.022258</td>\n",
       "      <td>0.999351</td>\n",
       "      <td>2.147798</td>\n",
       "      <td>0.480519</td>\n",
       "    </tr>\n",
       "    <tr>\n",
       "      <th>10</th>\n",
       "      <td>0.033966</td>\n",
       "      <td>0.996753</td>\n",
       "      <td>2.039252</td>\n",
       "      <td>0.503896</td>\n",
       "    </tr>\n",
       "    <tr>\n",
       "      <th>11</th>\n",
       "      <td>0.025701</td>\n",
       "      <td>0.996753</td>\n",
       "      <td>1.909824</td>\n",
       "      <td>0.490909</td>\n",
       "    </tr>\n",
       "    <tr>\n",
       "      <th>12</th>\n",
       "      <td>0.019977</td>\n",
       "      <td>0.996104</td>\n",
       "      <td>2.171800</td>\n",
       "      <td>0.475325</td>\n",
       "    </tr>\n",
       "    <tr>\n",
       "      <th>13</th>\n",
       "      <td>0.012262</td>\n",
       "      <td>0.998052</td>\n",
       "      <td>2.388281</td>\n",
       "      <td>0.483117</td>\n",
       "    </tr>\n",
       "    <tr>\n",
       "      <th>14</th>\n",
       "      <td>0.067517</td>\n",
       "      <td>0.986364</td>\n",
       "      <td>2.122697</td>\n",
       "      <td>0.496104</td>\n",
       "    </tr>\n",
       "    <tr>\n",
       "      <th>15</th>\n",
       "      <td>0.018999</td>\n",
       "      <td>0.996753</td>\n",
       "      <td>2.177901</td>\n",
       "      <td>0.493506</td>\n",
       "    </tr>\n",
       "    <tr>\n",
       "      <th>16</th>\n",
       "      <td>0.103368</td>\n",
       "      <td>0.982468</td>\n",
       "      <td>2.080582</td>\n",
       "      <td>0.475325</td>\n",
       "    </tr>\n",
       "    <tr>\n",
       "      <th>17</th>\n",
       "      <td>0.037863</td>\n",
       "      <td>0.994156</td>\n",
       "      <td>2.135087</td>\n",
       "      <td>0.485714</td>\n",
       "    </tr>\n",
       "    <tr>\n",
       "      <th>18</th>\n",
       "      <td>0.018250</td>\n",
       "      <td>0.997403</td>\n",
       "      <td>2.135333</td>\n",
       "      <td>0.496104</td>\n",
       "    </tr>\n",
       "    <tr>\n",
       "      <th>19</th>\n",
       "      <td>0.017277</td>\n",
       "      <td>0.998052</td>\n",
       "      <td>2.247663</td>\n",
       "      <td>0.480519</td>\n",
       "    </tr>\n",
       "  </tbody>\n",
       "</table>\n",
       "</div>"
      ],
      "text/plain": [
       "        loss  accuracy  val_loss  val_accuracy\n",
       "0   1.171658  0.576623  1.577748      0.459740\n",
       "1   0.656691  0.794156  1.534099      0.488312\n",
       "2   0.368518  0.894805  1.554388      0.496104\n",
       "3   0.228653  0.933117  1.915514      0.444156\n",
       "4   0.119871  0.970130  1.774210      0.503896\n",
       "5   0.070823  0.983766  1.988732      0.472727\n",
       "6   0.038273  0.994156  1.906327      0.496104\n",
       "7   0.024735  0.998052  1.858102      0.535065\n",
       "8   0.020382  0.998052  2.029606      0.511688\n",
       "9   0.022258  0.999351  2.147798      0.480519\n",
       "10  0.033966  0.996753  2.039252      0.503896\n",
       "11  0.025701  0.996753  1.909824      0.490909\n",
       "12  0.019977  0.996104  2.171800      0.475325\n",
       "13  0.012262  0.998052  2.388281      0.483117\n",
       "14  0.067517  0.986364  2.122697      0.496104\n",
       "15  0.018999  0.996753  2.177901      0.493506\n",
       "16  0.103368  0.982468  2.080582      0.475325\n",
       "17  0.037863  0.994156  2.135087      0.485714\n",
       "18  0.018250  0.997403  2.135333      0.496104\n",
       "19  0.017277  0.998052  2.247663      0.480519"
      ]
     },
     "execution_count": 36,
     "metadata": {},
     "output_type": "execute_result"
    }
   ],
   "source": [
    "df1"
   ]
  },
  {
   "cell_type": "code",
   "execution_count": 37,
   "id": "9c338d14-5da1-470c-a44e-f9e205a7395d",
   "metadata": {},
   "outputs": [
    {
     "data": {
      "text/plain": [
       "<matplotlib.legend.Legend at 0x1ab2882e850>"
      ]
     },
     "execution_count": 37,
     "metadata": {},
     "output_type": "execute_result"
    },
    {
     "data": {
      "image/png": "[encoded data removed]",
      "text/plain": [
       "<Figure size 432x288 with 1 Axes>"
      ]
     },
     "metadata": {
      "needs_background": "light"
     },
     "output_type": "display_data"
    }
   ],
   "source": [
    "plt.plot(df1.val_loss,color=\"r\",marker=\".\",label=\"Validation\")\n",
    "plt.plot(df1.loss,color=\"b\",marker=\"*\",label=\"loss\")\n",
    "plt.legend()"
   ]
  },
  {
   "cell_type": "code",
   "execution_count": null,
   "id": "5dc735ce-34d1-496c-aed1-cfd497bc3f8d",
   "metadata": {},
   "outputs": [],
   "source": []
  },
  {
   "cell_type": "code",
   "execution_count": null,
   "id": "58cc0ff6-d8fb-49bc-9b5b-012902eb5ead",
   "metadata": {},
   "outputs": [],
   "source": []
  }
 ],
 "metadata": {
  "kernelspec": {
   "display_name": "Python 3",
   "language": "python",
   "name": "python3"
  },
  "language_info": {
   "codemirror_mode": {
    "name": "ipython",
    "version": 3
   },
   "file_extension": ".py",
   "mimetype": "text/x-python",
   "name": "python",
   "nbconvert_exporter": "python",
   "pygments_lexer": "ipython3",
   "version": "3.9.12"
  }
 },
 "nbformat": 4,
 "nbformat_minor": 5
}
